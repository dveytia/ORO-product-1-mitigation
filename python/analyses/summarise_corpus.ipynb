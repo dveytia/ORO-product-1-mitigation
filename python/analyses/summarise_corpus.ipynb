{
 "cells": [
  {
   "cell_type": "markdown",
   "id": "e7edb3b4-010e-43eb-89bb-a03265d87310",
   "metadata": {},
   "source": [
    "# Summarise corpus\n",
    "\n",
    "This file summarises the corpus used to train the models, and the model predictions"
   ]
  },
  {
   "cell_type": "code",
   "execution_count": 2,
   "id": "4845fb65-21bc-43e8-af83-8899abbbe98e",
   "metadata": {},
   "outputs": [],
   "source": [
    "import pandas as pd\n",
    "\n",
    "dataFolder = '/homedata/dveytia/Product_1_data'"
   ]
  },
  {
   "cell_type": "markdown",
   "id": "ea33540f-1b1f-4918-a3f4-161ea2065317",
   "metadata": {},
   "source": [
    "## Training data"
   ]
  },
  {
   "cell_type": "code",
   "execution_count": 9,
   "id": "d63f5b5c-e8ed-4f52-ae22-8c8d867eeb0e",
   "metadata": {},
   "outputs": [
    {
     "data": {
      "text/plain": [
       "random_sample  relevant\n",
       "0              0            564\n",
       "               1            638\n",
       "1              0            842\n",
       "               1           1044\n",
       "dtype: int64"
      ]
     },
     "execution_count": 9,
     "metadata": {},
     "output_type": "execute_result"
    }
   ],
   "source": [
    "## Summarise training data\n",
    "codedVariables1 = pd.read_csv(f'{dataFolder}/data/articleAnswers_formatted_2025-04-26.txt', delimiter='\\t')\n",
    "codedVariables2 = pd.read_csv(f'{dataFolder}/data/articleAnswers_notMRE_formatted_2025-05-26.txt' , delimiter='\\t')\n",
    "codedVariables = pd.concat([codedVariables1,codedVariables2])\n",
    "codedVariables.groupby(['random_sample','relevant']).size()"
   ]
  },
  {
   "cell_type": "code",
   "execution_count": 10,
   "id": "a4f8cf23-b7f5-4057-826e-1b3b3a83e8a6",
   "metadata": {},
   "outputs": [
    {
     "data": {
      "text/plain": [
       "1682"
      ]
     },
     "execution_count": 10,
     "metadata": {},
     "output_type": "execute_result"
    }
   ],
   "source": [
    "## Total number of included articles\n",
    "sum(codedVariables.relevant)"
   ]
  },
  {
   "cell_type": "code",
   "execution_count": 11,
   "id": "ba43b171-7ce4-4edf-89d8-05f157d58d21",
   "metadata": {},
   "outputs": [
    {
     "data": {
      "text/plain": [
       "['id',\n",
       " 'language',\n",
       " 'population',\n",
       " 'relevant',\n",
       " 'primary_research',\n",
       " 'implemented',\n",
       " 'outcome_quantitative',\n",
       " 'policy_link',\n",
       " 'outcome_codis_benefit',\n",
       " 'outcome_effectiveness',\n",
       " 'oro_type.CCS',\n",
       " 'oro_type.Efficiency',\n",
       " 'oro_type.MRE-Bio',\n",
       " 'oro_type.MRE-Located',\n",
       " 'oro_type.MRE-Ocean',\n",
       " 'oro_type.CDR-BioPump',\n",
       " 'oro_type.CDR-Cult',\n",
       " 'oro_type.CDR-OAE',\n",
       " 'oro_type.CDR-BC',\n",
       " 'oro_type.CDR-Other',\n",
       " 'ecosystem.Microalgae',\n",
       " 'ecosystem.Macroalgae',\n",
       " 'ecosystem.Seagrass',\n",
       " 'ecosystem.Mangrove',\n",
       " 'ecosystem.Salt marsh',\n",
       " 'title',\n",
       " 'abstract',\n",
       " 'keywords',\n",
       " 'random_sample',\n",
       " 'intervention',\n",
       " 'uncertain_screen',\n",
       " 'relevant_allResearch']"
      ]
     },
     "execution_count": 11,
     "metadata": {},
     "output_type": "execute_result"
    }
   ],
   "source": [
    "list(codedVariables)"
   ]
  },
  {
   "cell_type": "code",
   "execution_count": 19,
   "id": "73039edb-2b20-4625-833f-d0204b4ad064",
   "metadata": {},
   "outputs": [
    {
     "data": {
      "text/plain": [
       "oro_type.CCS            256\n",
       "oro_type.Efficiency     158\n",
       "oro_type.MRE-Bio        110\n",
       "oro_type.MRE-Located    343\n",
       "oro_type.MRE-Ocean      349\n",
       "oro_type.CDR-BioPump    160\n",
       "oro_type.CDR-Cult        53\n",
       "oro_type.CDR-OAE        172\n",
       "oro_type.CDR-BC         195\n",
       "oro_type.CDR-Other       22\n",
       "dtype: int64"
      ]
     },
     "execution_count": 19,
     "metadata": {},
     "output_type": "execute_result"
    }
   ],
   "source": [
    "oroTypeCols = [x for x in codedVariables.columns if 'oro_type' in x] \n",
    "codedVariables[codedVariables.relevant == 1][oroTypeCols].apply(sum)"
   ]
  },
  {
   "cell_type": "markdown",
   "id": "7268b927-59a7-4d62-82f3-69ed614d78a0",
   "metadata": {},
   "source": [
    "# Number of articles relevant for mitigation branch (updated)"
   ]
  },
  {
   "cell_type": "code",
   "execution_count": 4,
   "id": "e3c9ab50-d4c2-4e51-8d34-4d4709ae4bad",
   "metadata": {},
   "outputs": [],
   "source": [
    "unseenTxt = f'{dataFolder}/data/all_unseen_mitigation_oros.txt'\n",
    "unseen_mit = pd.read_csv(unseenTxt, delimiter='\\t')"
   ]
  },
  {
   "cell_type": "code",
   "execution_count": 6,
   "id": "f1c6d248-45b2-4cbd-a0ef-758cec3d3ab3",
   "metadata": {},
   "outputs": [
    {
     "name": "stderr",
     "output_type": "stream",
     "text": [
      "/tmp/ipykernel_3321355/829121492.py:10: DtypeWarning: Columns (28) have mixed types. Specify dtype option on import or set low_memory=False.\n",
      "  unseen_df2 = pd.read_csv(f'{dataFolder}/data/unique_references_UPDATE_13-05-2025.txt', delimiter='\\t')\n"
     ]
    }
   ],
   "source": [
    "# Load unseen documents & apply prediction boundaries\n",
    "unseen_df = pd.read_csv(f'{dataFolder}/data/all_unseen_mitigation_oros.txt', delimiter='\\t') \n",
    "#unseen_df = unseen_df.rename(columns={'analysis_id':'id'})\n",
    "unseen_df=unseen_df.dropna(subset=['abstract']).reset_index(drop=True)\n",
    "# Choose which prediction boundaries to apply. \n",
    "unseen_df = unseen_df[(unseen_df['oro_any.M_Renewables - mean_prediction']>=0.5) | (unseen_df['oro_any.M_Increase_efficiency - mean_prediction']>=0.5) | (unseen_df['oro_any.M_CO2_removal_or_storage - mean_prediction']>=0.5)]\n",
    "unseen_df['seen']=0\n",
    "\n",
    "# Load unseen updated documents & apply prediction boundaries to just Mitigation branch\n",
    "unseen_df2 = pd.read_csv(f'{dataFolder}/data/unique_references_UPDATE_13-05-2025.txt', delimiter='\\t')\n",
    "unseen_df2 = unseen_df2.rename(columns={'analysis_id':'id'})\n",
    "unseen_df2=unseen_df2.dropna(subset=['abstract']).reset_index(drop=True)\n",
    "pred_screen = pd.read_csv(f'{dataFolder}/outputs/predictions-compiled/oro_screen_update_predictions.csv')\n",
    "pred_branch = pd.read_csv(f'{dataFolder}/outputs/predictions-compiled/oro_branch_update_predictions.csv')\n",
    "unseen_df2 = unseen_df2.merge(pred_screen, how=\"left\").merge(pred_branch, how=\"left\")\n",
    "# Choose which predictiction boundaries to apply\n",
    "unseen_df2 = unseen_df2[unseen_df2['0 - relevance - mean_prediction']>=0.5] \n",
    "unseen_df2 = unseen_df2[unseen_df2['oro_branch.Mitigation - mean_prediction']>=0.5]\n",
    "unseen_df2['seen']=0\n",
    "\n",
    "# Merge two unseen data frames together\n",
    "unseen_df = (pd.concat([unseen_df[[\"id\",\"title\", \"abstract\", \"keywords\",\"seen\"]], unseen_df2[[\"id\",\"title\", \"abstract\", \"keywords\",\"seen\"]]])\n",
    "             .sort_values('id')\n",
    "             .sample(frac=1, random_state=1)\n",
    "             .reset_index(drop=True)\n",
    "            )"
   ]
  },
  {
   "cell_type": "code",
   "execution_count": 10,
   "id": "78665247-5803-42f8-bb75-ad4f06bbe5fc",
   "metadata": {},
   "outputs": [
    {
     "data": {
      "text/plain": [
       "(58952, 5)"
      ]
     },
     "execution_count": 10,
     "metadata": {},
     "output_type": "execute_result"
    }
   ],
   "source": [
    "unseen_df.shape"
   ]
  }
 ],
 "metadata": {
  "kernelspec": {
   "display_name": "distilbert",
   "language": "python",
   "name": "distilbert"
  },
  "language_info": {
   "codemirror_mode": {
    "name": "ipython",
    "version": 3
   },
   "file_extension": ".py",
   "mimetype": "text/x-python",
   "name": "python",
   "nbconvert_exporter": "python",
   "pygments_lexer": "ipython3",
   "version": "3.8.18"
  }
 },
 "nbformat": 4,
 "nbformat_minor": 5
}
